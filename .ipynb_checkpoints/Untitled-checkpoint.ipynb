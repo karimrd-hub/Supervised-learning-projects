{
 "cells": [
  {
   "cell_type": "code",
   "execution_count": 2,
   "id": "1e151510-4aa9-417d-9b9a-f6d9200d1da8",
   "metadata": {},
   "outputs": [
    {
     "name": "stdout",
     "output_type": "stream",
     "text": [
      "Hello World\n"
     ]
    }
   ],
   "source": [
    "print(\"Hello World\")"
   ]
  },
  {
   "cell_type": "code",
   "execution_count": 3,
   "id": "f553ff75-4965-4dde-81ab-44b51c499007",
   "metadata": {},
   "outputs": [
    {
     "name": "stdout",
     "output_type": "stream",
     "text": [
      "Try\n"
     ]
    }
   ],
   "source": [
    "print(\"Try\")"
   ]
  },
  {
   "cell_type": "code",
   "execution_count": null,
   "id": "dbb5ff9f-f14e-4899-be75-196b276d479c",
   "metadata": {},
   "outputs": [],
   "source": []
  }
 ],
 "metadata": {
  "kernelspec": {
   "display_name": "Python 3 (ipykernel)",
   "language": "python",
   "name": "python3"
  },
  "language_info": {
   "codemirror_mode": {
    "name": "ipython",
    "version": 3
   },
   "file_extension": ".py",
   "mimetype": "text/x-python",
   "name": "python",
   "nbconvert_exporter": "python",
   "pygments_lexer": "ipython3",
   "version": "3.11.9"
  }
 },
 "nbformat": 4,
 "nbformat_minor": 5
}
